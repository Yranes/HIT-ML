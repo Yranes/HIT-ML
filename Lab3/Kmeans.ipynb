{
 "cells": [
  {
   "cell_type": "code",
   "execution_count": 6,
   "id": "811bc730",
   "metadata": {},
   "outputs": [],
   "source": [
    "import numpy as np\n",
    "import matplotlib.pyplot as plt"
   ]
  },
  {
   "cell_type": "code",
   "execution_count": 11,
   "id": "37846d96",
   "metadata": {},
   "outputs": [
    {
     "data": {
      "image/png": "[encoded data removed]",
      "text/plain": [
       "<Figure size 432x288 with 1 Axes>"
      ]
     },
     "metadata": {
      "needs_background": "light"
     },
     "output_type": "display_data"
    }
   ],
   "source": [
    "class DataFrame:\n",
    "    def __init__(self, k, means, number):\n",
    "        self.k = k\n",
    "        self.K_means = means\n",
    "        self.K_nums = number\n",
    "        self.data = self.creat_data([[1, 0], [0, 1]])\n",
    "    def creat_data(self, cov):\n",
    "        data = []\n",
    "        for k_i in range(self.k):\n",
    "            for j in range(self.K_nums[k_i]):\n",
    "                data.append(np.random.multivariate_normal(self.K_means[k_i], cov).tolist())\n",
    "        return np.array(data)\n",
    "    def Plot(self): #数据可视化\n",
    "        lst = 0\n",
    "        for i in range(self.k):\n",
    "            plt.scatter(self.data[lst: lst + self.K_nums[i], 0], self.data[lst: lst + self.K_nums[i], 1])\n",
    "            lst += self.K_nums[i]\n",
    "\n",
    "k = 3\n",
    "means = [[2, 4], [3, -6], [-2, -4]] #均值\n",
    "number = [50, 100, 50] #数量\n",
    "\n",
    "Data_A = DataFrame(k, means, number)\n",
    "\n",
    "Data_A.Plot()"
   ]
  },
  {
   "cell_type": "code",
   "execution_count": 96,
   "id": "eb50bae7",
   "metadata": {},
   "outputs": [
    {
     "data": {
      "image/png": "[encoded data removed]",
      "text/plain": [
       "<Figure size 432x288 with 1 Axes>"
      ]
     },
     "metadata": {
      "needs_background": "light"
     },
     "output_type": "display_data"
    }
   ],
   "source": [
    "class K_means_method:\n",
    "    def __init__(self, dataFrame, if_random = True): #if-random = true 随机选择初始点 false 贪心选择初始点\n",
    "        self.n = sum(dataFrame.K_nums)\n",
    "        self.k = dataFrame.k\n",
    "        self.data = dataFrame.data\n",
    "        self.dataframe = dataFrame\n",
    "        self.blg = np.zeros(self.n, dtype = np.int64)\n",
    "        rdn_point = np.random.randint(0, self.n, size = self.k)\n",
    "        if if_random == True:\n",
    "            self.center = np.array([self.data[k] for k in rdn_point])\n",
    "        else:\n",
    "            self.center = np.array(self.Norandom_select())\n",
    "    def Norandom_select(self): #选择相距最远的k个点\n",
    "        select = [self.data[np.random.randint(0, self.n)].tolist()]\n",
    "        candidate = self.data.tolist()\n",
    "        candidate.remove(select[0])\n",
    "        while len(select) < self.k:\n",
    "            Max_stp = 0\n",
    "            for pos in candidate:\n",
    "                stp = 0\n",
    "                for k in select:\n",
    "                    stp += (pos[0] - k[0]) ** 2 + (pos[1] - k[1]) ** 2\n",
    "                if stp > Max_stp:\n",
    "                    Max_stp = stp\n",
    "                    cd = pos\n",
    "            select.append(cd)\n",
    "            candidate.remove(cd)\n",
    "        return select\n",
    "    def Dis(self): #计算data里所有点到center的距离\n",
    "        for i in range(self.k):\n",
    "            x = self.data - self.center[i]\n",
    "            x = x ** 2\n",
    "            if i == 0:\n",
    "                Dis = x.sum(axis = 1, keepdims = True)\n",
    "            else:\n",
    "                Dis = np.append(Dis, x.sum(axis = 1, keepdims = True), axis = 1)\n",
    "        return Dis\n",
    "    def K_means(self):\n",
    "        Point_dis = self.Dis()\n",
    "        for i in range(self.n):\n",
    "            self.blg[i] = np.argmin(Point_dis[i]) #找到离得最近的center并为其归类\n",
    "        self.change_center()\n",
    "    def change_center(self): #计算均值，更新center\n",
    "        K_point = [[] for i in range(self.k)]\n",
    "        for i in range(self.n):\n",
    "            K_point[self.blg[i]].append(i)\n",
    "        for i in range(self.k):\n",
    "            k0, k1 = 0, 0\n",
    "            for k in K_point[i]:\n",
    "                k0 += self.data[k][0]\n",
    "                k1 += self.data[k][1]\n",
    "            self.center[i][0] = k0 / len(K_point[i])\n",
    "            self.center[i][1] = k1 / len(K_point[i])\n",
    "    def Solve(self, Epoch): #多次迭代\n",
    "        for e in range(Epoch):\n",
    "            self.K_means()\n",
    "        self.dataframe.Plot()\n",
    "        for i in range(self.k):\n",
    "            plt.scatter(self.center[i][0], self.center[i][1], marker = '+', c = 'b', s =200)\n",
    "            \n",
    "s1 = K_means_method(Data_A, False)\n",
    "s1.Solve(10) #设置迭代次数"
   ]
  },
  {
   "cell_type": "code",
   "execution_count": null,
   "id": "fabc7d1e",
   "metadata": {},
   "outputs": [],
   "source": []
  }
 ],
 "metadata": {
  "kernelspec": {
   "display_name": "Python 3 (ipykernel)",
   "language": "python",
   "name": "python3"
  },
  "language_info": {
   "codemirror_mode": {
    "name": "ipython",
    "version": 3
   },
   "file_extension": ".py",
   "mimetype": "text/x-python",
   "name": "python",
   "nbconvert_exporter": "python",
   "pygments_lexer": "ipython3",
   "version": "3.9.12"
  }
 },
 "nbformat": 4,
 "nbformat_minor": 5
}
